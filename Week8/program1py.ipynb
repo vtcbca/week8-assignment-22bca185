{
 "cells": [
  {
   "cell_type": "code",
   "execution_count": null,
   "id": "db5eb9f1",
   "metadata": {},
   "outputs": [],
   "source": [
    "\"\"\"Program : 1 \n",
    "==================================================================================================\n",
    "Create CSV File for Product Selling for 6 Months and add at-least 5 Records for 5 different products. \n",
    "(Prod_Name, Jan ,Feb, Mar, Apr , May, Jun ) \n",
    "Create Python script to perform following task.\n",
    "A. Read data in Dataframe. \n",
    "B. Add columns and calculate total_sell, average_sell. \n",
    "C. Plot Total sell and average sell together on line chart with proper Legends, titles and lables. \n",
    "D. Explain final dataframe to csv named sell_analysis.csv \n",
    "\"\"\""
   ]
  },
  {
   "cell_type": "code",
   "execution_count": 2,
   "id": "dcc5d35b",
   "metadata": {},
   "outputs": [],
   "source": [
    "import csv\n",
    "import matplotlib.pyplot as plt\n",
    "import pandas as pd"
   ]
  },
  {
   "cell_type": "code",
   "execution_count": 3,
   "id": "88c0709c",
   "metadata": {},
   "outputs": [],
   "source": [
    "header=['Prod_No','Prod_Name','Jan','Feb','Mar','Apr','May','Jun']"
   ]
  },
  {
   "cell_type": "markdown",
   "id": "a1ce7aa6",
   "metadata": {},
   "source": [
    "### insert record"
   ]
  },
  {
   "cell_type": "code",
   "execution_count": 6,
   "id": "bbd7b83a",
   "metadata": {},
   "outputs": [
    {
     "name": "stdout",
     "output_type": "stream",
     "text": [
      "Enter Product Number: 101\n",
      "Enter Product Name: lg\n",
      "Enter January Sales: 65\n",
      "Enter February Sales: 76\n",
      "Enter March Sales: 67\n",
      "Enter April Sales: 56\n",
      "Enter May Sales: 45\n",
      "Enter June Sales: 76\n",
      "Enter Product Number: 102\n",
      "Enter Product Name: shype\n",
      "Enter January Sales: 54\n",
      "Enter February Sales: 87\n",
      "Enter March Sales: 56\n",
      "Enter April Sales: 64\n",
      "Enter May Sales: 46\n",
      "Enter June Sales: 87\n",
      "Enter Product Number: 103\n",
      "Enter Product Name: lego\n",
      "Enter January Sales: 76\n",
      "Enter February Sales: 68\n",
      "Enter March Sales: 66\n",
      "Enter April Sales: 55\n",
      "Enter May Sales: 76\n",
      "Enter June Sales: 98\n",
      "Enter Product Number: 104\n",
      "Enter Product Name: canon\n",
      "Enter January Sales: 54\n",
      "Enter February Sales: 56\n",
      "Enter March Sales: 56\n",
      "Enter April Sales: 45\n",
      "Enter May Sales: 45\n",
      "Enter June Sales: 67\n",
      "Enter Product Number: 105\n",
      "Enter Product Name: fedex\n",
      "Enter January Sales: 76\n",
      "Enter February Sales: 56\n",
      "Enter March Sales: 56\n",
      "Enter April Sales: 87\n",
      "Enter May Sales: 55\n",
      "Enter June Sales: 76\n"
     ]
    }
   ],
   "source": [
    "l=[]\n",
    "with open(\"selling.csv\",'w',newline=\"\") as file:\n",
    "    insert =csv. writer(file)\n",
    "    insert.writerow(header)\n",
    "    for i in range(5):\n",
    "        prod_no = input(\"Enter Product Number: \")\n",
    "        prod_name = input(\"Enter Product Name: \")\n",
    "        jan = int(input(\"Enter January Sales: \"))\n",
    "        feb = int(input(\"Enter February Sales: \"))\n",
    "        mar = int(input(\"Enter March Sales: \"))\n",
    "        apr = int(input(\"Enter April Sales: \"))\n",
    "        may = int(input(\"Enter May Sales: \"))\n",
    "        jun = int(input(\"Enter June Sales: \"))\n",
    "        data=[prod_no,prod_name,jan,feb,mar,apr,may,jun]\n",
    "        l.append(data)\n",
    "    insert.writerows(l)\n"
   ]
  },
  {
   "cell_type": "markdown",
   "id": "7372fbdd",
   "metadata": {},
   "source": [
    "### Read data from csv"
   ]
  },
  {
   "cell_type": "code",
   "execution_count": 8,
   "id": "b5095174",
   "metadata": {},
   "outputs": [
    {
     "data": {
      "text/html": [
       "<div>\n",
       "<style scoped>\n",
       "    .dataframe tbody tr th:only-of-type {\n",
       "        vertical-align: middle;\n",
       "    }\n",
       "\n",
       "    .dataframe tbody tr th {\n",
       "        vertical-align: top;\n",
       "    }\n",
       "\n",
       "    .dataframe thead th {\n",
       "        text-align: right;\n",
       "    }\n",
       "</style>\n",
       "<table border=\"1\" class=\"dataframe\">\n",
       "  <thead>\n",
       "    <tr style=\"text-align: right;\">\n",
       "      <th></th>\n",
       "      <th>Prod_No</th>\n",
       "      <th>Prod_Name</th>\n",
       "      <th>Jan</th>\n",
       "      <th>Feb</th>\n",
       "      <th>Mar</th>\n",
       "      <th>Apr</th>\n",
       "      <th>May</th>\n",
       "      <th>Jun</th>\n",
       "    </tr>\n",
       "  </thead>\n",
       "  <tbody>\n",
       "    <tr>\n",
       "      <th>0</th>\n",
       "      <td>101</td>\n",
       "      <td>lg</td>\n",
       "      <td>65</td>\n",
       "      <td>76</td>\n",
       "      <td>67</td>\n",
       "      <td>56</td>\n",
       "      <td>45</td>\n",
       "      <td>76</td>\n",
       "    </tr>\n",
       "    <tr>\n",
       "      <th>1</th>\n",
       "      <td>102</td>\n",
       "      <td>shype</td>\n",
       "      <td>54</td>\n",
       "      <td>87</td>\n",
       "      <td>56</td>\n",
       "      <td>64</td>\n",
       "      <td>46</td>\n",
       "      <td>87</td>\n",
       "    </tr>\n",
       "    <tr>\n",
       "      <th>2</th>\n",
       "      <td>103</td>\n",
       "      <td>lego</td>\n",
       "      <td>76</td>\n",
       "      <td>68</td>\n",
       "      <td>66</td>\n",
       "      <td>55</td>\n",
       "      <td>76</td>\n",
       "      <td>98</td>\n",
       "    </tr>\n",
       "    <tr>\n",
       "      <th>3</th>\n",
       "      <td>104</td>\n",
       "      <td>canon</td>\n",
       "      <td>54</td>\n",
       "      <td>56</td>\n",
       "      <td>56</td>\n",
       "      <td>45</td>\n",
       "      <td>45</td>\n",
       "      <td>67</td>\n",
       "    </tr>\n",
       "    <tr>\n",
       "      <th>4</th>\n",
       "      <td>105</td>\n",
       "      <td>fedex</td>\n",
       "      <td>76</td>\n",
       "      <td>56</td>\n",
       "      <td>56</td>\n",
       "      <td>87</td>\n",
       "      <td>55</td>\n",
       "      <td>76</td>\n",
       "    </tr>\n",
       "  </tbody>\n",
       "</table>\n",
       "</div>"
      ],
      "text/plain": [
       "   Prod_No Prod_Name  Jan  Feb  Mar  Apr  May  Jun\n",
       "0      101        lg   65   76   67   56   45   76\n",
       "1      102     shype   54   87   56   64   46   87\n",
       "2      103      lego   76   68   66   55   76   98\n",
       "3      104     canon   54   56   56   45   45   67\n",
       "4      105     fedex   76   56   56   87   55   76"
      ]
     },
     "execution_count": 8,
     "metadata": {},
     "output_type": "execute_result"
    }
   ],
   "source": [
    "df=pd.read_csv(\"selling.csv\")\n",
    "df"
   ]
  },
  {
   "cell_type": "markdown",
   "id": "b38cc980",
   "metadata": {},
   "source": [
    "### calculate total_sell and average sell"
   ]
  },
  {
   "cell_type": "code",
   "execution_count": 9,
   "id": "89b65250",
   "metadata": {},
   "outputs": [
    {
     "data": {
      "text/html": [
       "<div>\n",
       "<style scoped>\n",
       "    .dataframe tbody tr th:only-of-type {\n",
       "        vertical-align: middle;\n",
       "    }\n",
       "\n",
       "    .dataframe tbody tr th {\n",
       "        vertical-align: top;\n",
       "    }\n",
       "\n",
       "    .dataframe thead th {\n",
       "        text-align: right;\n",
       "    }\n",
       "</style>\n",
       "<table border=\"1\" class=\"dataframe\">\n",
       "  <thead>\n",
       "    <tr style=\"text-align: right;\">\n",
       "      <th></th>\n",
       "      <th>Prod_No</th>\n",
       "      <th>Prod_Name</th>\n",
       "      <th>Jan</th>\n",
       "      <th>Feb</th>\n",
       "      <th>Mar</th>\n",
       "      <th>Apr</th>\n",
       "      <th>May</th>\n",
       "      <th>Jun</th>\n",
       "      <th>total_sell</th>\n",
       "      <th>average_sell</th>\n",
       "    </tr>\n",
       "  </thead>\n",
       "  <tbody>\n",
       "    <tr>\n",
       "      <th>0</th>\n",
       "      <td>101</td>\n",
       "      <td>lg</td>\n",
       "      <td>65</td>\n",
       "      <td>76</td>\n",
       "      <td>67</td>\n",
       "      <td>56</td>\n",
       "      <td>45</td>\n",
       "      <td>76</td>\n",
       "      <td>385</td>\n",
       "      <td>64.166667</td>\n",
       "    </tr>\n",
       "    <tr>\n",
       "      <th>1</th>\n",
       "      <td>102</td>\n",
       "      <td>shype</td>\n",
       "      <td>54</td>\n",
       "      <td>87</td>\n",
       "      <td>56</td>\n",
       "      <td>64</td>\n",
       "      <td>46</td>\n",
       "      <td>87</td>\n",
       "      <td>394</td>\n",
       "      <td>65.666667</td>\n",
       "    </tr>\n",
       "    <tr>\n",
       "      <th>2</th>\n",
       "      <td>103</td>\n",
       "      <td>lego</td>\n",
       "      <td>76</td>\n",
       "      <td>68</td>\n",
       "      <td>66</td>\n",
       "      <td>55</td>\n",
       "      <td>76</td>\n",
       "      <td>98</td>\n",
       "      <td>439</td>\n",
       "      <td>73.166667</td>\n",
       "    </tr>\n",
       "    <tr>\n",
       "      <th>3</th>\n",
       "      <td>104</td>\n",
       "      <td>canon</td>\n",
       "      <td>54</td>\n",
       "      <td>56</td>\n",
       "      <td>56</td>\n",
       "      <td>45</td>\n",
       "      <td>45</td>\n",
       "      <td>67</td>\n",
       "      <td>323</td>\n",
       "      <td>53.833333</td>\n",
       "    </tr>\n",
       "    <tr>\n",
       "      <th>4</th>\n",
       "      <td>105</td>\n",
       "      <td>fedex</td>\n",
       "      <td>76</td>\n",
       "      <td>56</td>\n",
       "      <td>56</td>\n",
       "      <td>87</td>\n",
       "      <td>55</td>\n",
       "      <td>76</td>\n",
       "      <td>406</td>\n",
       "      <td>67.666667</td>\n",
       "    </tr>\n",
       "  </tbody>\n",
       "</table>\n",
       "</div>"
      ],
      "text/plain": [
       "   Prod_No Prod_Name  Jan  Feb  Mar  Apr  May  Jun  total_sell  average_sell\n",
       "0      101        lg   65   76   67   56   45   76         385     64.166667\n",
       "1      102     shype   54   87   56   64   46   87         394     65.666667\n",
       "2      103      lego   76   68   66   55   76   98         439     73.166667\n",
       "3      104     canon   54   56   56   45   45   67         323     53.833333\n",
       "4      105     fedex   76   56   56   87   55   76         406     67.666667"
      ]
     },
     "execution_count": 9,
     "metadata": {},
     "output_type": "execute_result"
    }
   ],
   "source": [
    "df['total_sell'] = df[['Jan', 'Feb', 'Mar', 'Apr', 'May', 'Jun']].sum(axis=1)\n",
    "df['average_sell'] = df[['Jan', 'Feb', 'Mar', 'Apr', 'May', 'Jun']].mean(axis=1)\n",
    "df"
   ]
  },
  {
   "cell_type": "markdown",
   "id": "5b46a730",
   "metadata": {},
   "source": [
    "### Plot Total sell and average sell together on line chart with proper Legends, titles and lables"
   ]
  },
  {
   "cell_type": "code",
   "execution_count": 10,
   "id": "9ac9c1a5",
   "metadata": {},
   "outputs": [
    {
     "data": {
      "image/png": "[encoded data removed]",
      "text/plain": [
       "<Figure size 640x480 with 1 Axes>"
      ]
     },
     "metadata": {},
     "output_type": "display_data"
    }
   ],
   "source": [
    "name=(['laptop','CPU','RAM','ROM','keyboard'])\n",
    "plt.plot(name,df['total_sell'])\n",
    "plt.plot(name,df['average_sell'])\n",
    "plt.xlabel('product_name')\n",
    "plt.ylabel('no of sales')\n",
    "plt.title('Sell Over month')\n",
    "plt.legend(['total_sell','average_sell'])\n",
    "plt.show()"
   ]
  },
  {
   "cell_type": "markdown",
   "id": "f0ab7793",
   "metadata": {},
   "source": [
    "### Explain final dataframe to csv named sell_analysis.csv"
   ]
  },
  {
   "cell_type": "code",
   "execution_count": 11,
   "id": "7c764704",
   "metadata": {},
   "outputs": [
    {
     "name": "stdout",
     "output_type": "stream",
     "text": [
      "Mean of total sell is: 389.4\n",
      "Median of total sell is: 394.0\n",
      "Mode of total sell is: 0    323\n",
      "1    385\n",
      "2    394\n",
      "3    406\n",
      "4    439\n",
      "Name: total_sell, dtype: int64\n"
     ]
    }
   ],
   "source": [
    "print(\"Mean of total sell is:\",df['total_sell'].mean())\n",
    "print(\"Median of total sell is:\",df['total_sell'].median())\n",
    "print(\"Mode of total sell is:\",df['total_sell'].mode())"
   ]
  },
  {
   "cell_type": "code",
   "execution_count": null,
   "id": "3db2b6b6",
   "metadata": {},
   "outputs": [],
   "source": []
  }
 ],
 "metadata": {
  "kernelspec": {
   "display_name": "Python 3 (ipykernel)",
   "language": "python",
   "name": "python3"
  },
  "language_info": {
   "codemirror_mode": {
    "name": "ipython",
    "version": 3
   },
   "file_extension": ".py",
   "mimetype": "text/x-python",
   "name": "python",
   "nbconvert_exporter": "python",
   "pygments_lexer": "ipython3",
   "version": "3.11.2"
  }
 },
 "nbformat": 4,
 "nbformat_minor": 5
}
